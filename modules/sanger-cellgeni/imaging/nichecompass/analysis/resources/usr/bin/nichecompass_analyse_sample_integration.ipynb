{
 "cells": [
  {
   "cell_type": "markdown",
   "id": "6c7383df",
   "metadata": {},
   "source": [
    "# nichecompass_analyse_sample_integration\n",
    "\n",
    "Analysis of a trained NicheCompass sample-integration model."
   ]
  },
  {
   "cell_type": "code",
   "execution_count": null,
   "id": "802d0ac6",
   "metadata": {
    "tags": [
     "parameters"
    ]
   },
   "outputs": [],
   "source": [
    "# Parameters (papermill will override these)\n",
    "from pathlib import Path\n",
    "\n",
    "outdir = Path.cwd()              # Base output directory (default: cwd)\n",
    "prefix = \"nichecompass\"          # Must match training --prefix\n",
    "timestamp = \"\"                   # REQUIRED: YYYYMMDD_HHMMSS from training stdout\n",
    "species = \"human\"\n",
    "\n",
    "# Dataset / graph keys (should match training unless you know what you're doing)\n",
    "spatial_key = \"spatial\"\n",
    "n_neighbors = 4\n",
    "counts_key = \"counts\"            # Falls back to 'X' if missing\n",
    "adj_key = \"spatial_connectivities\"\n",
    "gp_names_key = \"nichecompass_gp_names\"\n",
    "active_gp_names_key = \"nichecompass_active_gp_names\"\n",
    "gp_targets_mask_key = \"nichecompass_gp_targets\"\n",
    "gp_targets_categories_mask_key = \"nichecompass_gp_targets_categories\"\n",
    "gp_sources_mask_key = \"nichecompass_gp_sources\"\n",
    "gp_sources_categories_mask_key = \"nichecompass_gp_sources_categories\"\n",
    "latent_key = \"nichecompass_latent\"\n",
    "\n",
    "# Labels / plotting\n",
    "sample_key = \"batch\"\n",
    "cell_type_key = \"Main_molecular_cell_type\"\n",
    "cat_covariates_keys = [\"batch\"]\n",
    "spot_size = 0.2\n",
    "\n",
    "# Clustering and differential analysis\n",
    "latent_leiden_resolution = 0.2\n",
    "differential_gp_test_results_key = \"nichecompass_differential_gp_test_results\"\n",
    "log_bayes_factor_thresh = 2.3\n",
    "\n",
    "# Optional: communication analysis. If empty, this section is skipped.\n",
    "gp_name = \"\"  # e.g., \"Lefty1_ligand_receptor_target_gene_GP\""
   ]
  },
  {
   "cell_type": "code",
   "execution_count": null,
   "id": "75e0fb13",
   "metadata": {},
   "outputs": [],
   "source": [
    "### Package imports\n",
    "from pathlib import Path\n",
    "import json, warnings\n",
    "\n",
    "import anndata as ad\n",
    "import matplotlib.pyplot as plt\n",
    "import numpy as np\n",
    "import pandas as pd\n",
    "import scanpy as sc\n",
    "import seaborn as sns\n",
    "from sklearn.preprocessing import MinMaxScaler\n",
    "\n",
    "from nichecompass.models import NicheCompass\n",
    "from nichecompass.utils import (\n",
    "    create_new_color_dict,\n",
    "    compute_communication_gp_network,\n",
    "    generate_enriched_gp_info_plots,\n",
    "    visualize_communication_gp_network,\n",
    ")\n",
    "\n",
    "warnings.filterwarnings(\"ignore\")"
   ]
  },
  {
   "cell_type": "code",
   "execution_count": null,
   "id": "fdb491ff",
   "metadata": {},
   "outputs": [],
   "source": [
    "### Resolve run paths and load params\n",
    "# Validate timestamp\n",
    "assert timestamp, \"Parameter 'timestamp' must be provided (YYYYMMDD_HHMMSS).\"\n",
    "\n",
    "run_root = Path(outdir) / f\"{prefix}_{timestamp}\"\n",
    "if not run_root.exists():\n",
    "    raise FileNotFoundError(f\"Run directory '{run_root}' does not exist.\")\n",
    "\n",
    "artifacts_folder_path = run_root / \"artifacts\"\n",
    "figure_folder_path = artifacts_folder_path / \"sample_integration\" / prefix / \"figures\"\n",
    "model_folder_path = artifacts_folder_path / \"sample_integration\" / prefix / \"model\"\n",
    "figure_folder_path.mkdir(parents=True, exist_ok=True)\n",
    "\n",
    "# Parse parameters used in training (overrides defaults & user-provided by papermill)\n",
    "cfg_path = model_folder_path / \"run_config.json\"\n",
    "if cfg_path.exists():\n",
    "    with open(cfg_path, \"r\", encoding=\"utf-8\") as f:\n",
    "        rc: dict = json.load(f)\n",
    "    counts_key = rc.get(\"counts_key_effective\", rc.get(\"counts_key\", counts_key)) or counts_key\n",
    "    adj_key = rc.get(\"adj_key\", adj_key) or adj_key\n",
    "    gp_names_key = rc.get(\"gp_names_key\", gp_names_key) or gp_names_key\n",
    "    active_gp_names_key = rc.get(\"active_gp_names_key\", active_gp_names_key) or active_gp_names_key\n",
    "    gp_targets_mask_key = rc.get(\"gp_targets_mask_key\", gp_targets_mask_key) or gp_targets_mask_key\n",
    "    gp_targets_categories_mask_key = rc.get(\"gp_targets_categories_mask_key\", gp_targets_categories_mask_key) or gp_targets_categories_mask_key\n",
    "    gp_sources_mask_key = rc.get(\"gp_sources_mask_key\", gp_sources_mask_key) or gp_sources_mask_key\n",
    "    gp_sources_categories_mask_key = rc.get(\"gp_sources_categories_mask_key\", gp_sources_categories_mask_key) or gp_sources_categories_mask_key\n",
    "    latent_key = rc.get(\"latent_key\", latent_key) or latent_key\n",
    "\n",
    "    sample_key = rc.get(\"sample_key\", sample_key) or sample_key\n",
    "    cell_type_key = rc.get(\"cell_type_key\", cell_type_key) or cell_type_key\n",
    "    cat_covariates_keys = rc.get(\"cat_covariates_keys\", cat_covariates_keys) or cat_covariates_keys\n",
    "    if not cat_covariates_keys:\n",
    "        cat_covariates_keys = [sample_key]"
   ]
  },
  {
   "cell_type": "code",
   "execution_count": null,
   "id": "0fdeedc6",
   "metadata": {},
   "outputs": [],
   "source": [
    "# Load trained model + adata\n",
    "model = NicheCompass.load(dir_path=str(model_folder_path),\n",
    "                          adata=None,\n",
    "                          adata_file_name=\"model.h5ad\",\n",
    "                          gp_names_key=gp_names_key)\n",
    "samples = model.adata.obs[sample_key].unique().tolist()"
   ]
  },
  {
   "cell_type": "markdown",
   "id": "9c8433bd",
   "metadata": {},
   "source": [
    "### 4.1 Visualize NicheCompass Latent GP Space\n",
    "\n",
    "Inspect how well the integration worked by visualizing the batch annotations in the latent GP space."
   ]
  },
  {
   "cell_type": "code",
   "execution_count": null,
   "id": "ae9324ed",
   "metadata": {},
   "outputs": [],
   "source": [
    "batch_colors = create_new_color_dict(adata=model.adata, cat_key=cat_covariates_keys[0])\n",
    "cell_type_colors = create_new_color_dict(adata=model.adata, cat_key=cell_type_key)"
   ]
  },
  {
   "cell_type": "code",
   "execution_count": null,
   "id": "610005ff",
   "metadata": {},
   "outputs": [],
   "source": [
    "# Batches: latent and physical per-sample\n",
    "fig = plt.figure(figsize=(12, 14))\n",
    "title = fig.suptitle(\"NicheCompass Batches in Latent and Physical Space\", y=0.96, x=0.55, fontsize=20)\n",
    "ax0 = plt.subplot2grid((2, len(samples)), (0, 0), colspan=len(samples))\n",
    "sc.pl.umap(adata=model.adata, color=[cat_covariates_keys[0]], palette=batch_colors,\n",
    "           title=\"Batches in Latent Space\", ax=ax0, show=False)\n",
    "axs = [ax0]\n",
    "for idx, sample in enumerate(samples):\n",
    "    ax = plt.subplot2grid((2, len(samples)), (1, idx))\n",
    "    sc.pl.spatial(adata=model.adata[model.adata.obs[sample_key]==sample],\n",
    "                  color=[cat_covariates_keys[0]], palette=batch_colors, spot_size=spot_size,\n",
    "                  title=f\"Batches in Physical Space\\n(Sample: {sample})\",\n",
    "                  legend_loc=None, ax=ax, show=False)\n",
    "    axs.append(ax)\n",
    "\n",
    "# Create and position shared legend\n",
    "handles, labels = axs[0].get_legend_handles_labels()\n",
    "lgd = fig.legend(handles, labels, loc=\"center left\", bbox_to_anchor=(0.98, 0.5))\n",
    "axs[0].get_legend().remove()\n",
    "\n",
    "# Adjust, save and display\n",
    "plt.subplots_adjust(wspace=0.2, hspace=0.25)\n",
    "fig.savefig(figure_folder_path / \"batches_latent_physical_space.svg\",\n",
    "            bbox_extra_artists=(lgd, title), bbox_inches=\"tight\")\n",
    "plt.show()"
   ]
  },
  {
   "cell_type": "code",
   "execution_count": null,
   "id": "2ff263b4",
   "metadata": {},
   "outputs": [],
   "source": [
    "# Cell types: latent and physical per-sample\n",
    "fig = plt.figure(figsize=(12, 14))\n",
    "title = fig.suptitle(\"Cell Types in Latent and Physical Space\", y=0.96, x=0.55, fontsize=20)\n",
    "ax0 = plt.subplot2grid((2, len(samples)), (0, 0), colspan=len(samples))\n",
    "sc.pl.umap(adata=model.adata, color=[cell_type_key], palette=cell_type_colors,\n",
    "           title=\"Cell Types in Latent Space\", ax=ax0, show=False)\n",
    "axs = [ax0]\n",
    "for idx, sample in enumerate(samples):\n",
    "    ax = plt.subplot2grid((2, len(samples)), (1, idx))\n",
    "    sc.pl.spatial(adata=model.adata[model.adata.obs[sample_key]==sample],\n",
    "                  color=[cell_type_key], palette=cell_type_colors, spot_size=spot_size,\n",
    "                  title=f\"Cell Types in Physical Space\\n(Sample: {sample})\",\n",
    "                  legend_loc=None, ax=ax, show=False)\n",
    "    axs.append(ax)\n",
    "\n",
    "# Create and position shared legend\n",
    "handles, labels = axs[0].get_legend_handles_labels()\n",
    "lgd = fig.legend(handles, labels, loc=\"center left\", bbox_to_anchor=(0.98, 0.5))\n",
    "axs[0].get_legend().remove()\n",
    "\n",
    "# Adjust, save and display plots\n",
    "plt.subplots_adjust(wspace=0.2, hspace=0.25)\n",
    "fig.savefig(figure_folder_path / \"cell_types_latent_physical_space.svg\",\n",
    "            bbox_extra_artists=(lgd, title), bbox_inches=\"tight\")\n",
    "plt.show()"
   ]
  },
  {
   "cell_type": "markdown",
   "id": "4127c4ec",
   "metadata": {},
   "source": [
    "### 4.2 Identify Niches (Leiden on latent graph)\n",
    "\n",
    "Computes Leiden clustering of the NicheCompass latent GP space to identify spatially consistent cell niches."
   ]
  },
  {
   "cell_type": "code",
   "execution_count": null,
   "id": "8edd90d2",
   "metadata": {},
   "outputs": [],
   "source": [
    "if latent_key not in model.adata.uns:\n",
    "    raise KeyError(\n",
    "        f\"Neighbors key '{latent_key}' not found in adata.uns. \"\n",
    "        \"Check that your training run computed neighbors with key_added=latent_key \"\n",
    "        \"and that run_config.json matches this notebook.\"\n",
    "    )"
   ]
  },
  {
   "cell_type": "code",
   "execution_count": null,
   "id": "137febfd",
   "metadata": {},
   "outputs": [],
   "source": [
    "# Compute latent Leiden clustering\n",
    "sc.tl.leiden(adata=model.adata, resolution=latent_leiden_resolution,\n",
    "             key_added=f\"latent_leiden_{latent_leiden_resolution}\", neighbors_key=latent_key)\n",
    "\n",
    "latent_cluster_key = f\"latent_leiden_{latent_leiden_resolution}\"\n",
    "latent_cluster_colors = create_new_color_dict(adata=model.adata, cat_key=latent_cluster_key)\n",
    "\n",
    "# Niches: latent and physical per-sample\n",
    "fig = plt.figure(figsize=(12, 14))\n",
    "title = fig.suptitle(\"NicheCompass Niches in Latent and Physical Space\", y=0.96, x=0.55, fontsize=20)\n",
    "ax0 = plt.subplot2grid((2, len(samples)), (0, 0), colspan=len(samples))\n",
    "sc.pl.umap(adata=model.adata, color=[latent_cluster_key], palette=latent_cluster_colors,\n",
    "           title=\"Niches in Latent Space\", ax=ax0, show=False)\n",
    "axs = [ax0]\n",
    "for idx, sample in enumerate(samples):\n",
    "    ax = plt.subplot2grid((2, len(samples)), (1, idx))\n",
    "    sc.pl.spatial(adata=model.adata[model.adata.obs[sample_key]==sample],\n",
    "                  color=[latent_cluster_key], palette=latent_cluster_colors, spot_size=spot_size,\n",
    "                  title=f\"Niches in Physical Space\\n(Sample: {sample})\",\n",
    "                  legend_loc=None, ax=ax, show=False)\n",
    "    axs.append(ax)\n",
    "\n",
    "# Create and position shared legend\n",
    "handles, labels = axs[0].get_legend_handles_labels()\n",
    "lgd = fig.legend(handles, labels, loc=\"center left\", bbox_to_anchor=(0.98, 0.5))\n",
    "axs[0].get_legend().remove()\n",
    "\n",
    "# Adjust, save and display plots\n",
    "plt.subplots_adjust(wspace=0.2, hspace=0.25)\n",
    "fig.savefig(figure_folder_path / f\"res_{latent_leiden_resolution}_niches_latent_physical_space.svg\",\n",
    "            bbox_extra_artists=(lgd, title), bbox_inches=\"tight\")\n",
    "plt.show()"
   ]
  },
  {
   "cell_type": "markdown",
   "id": "8ab3900f",
   "metadata": {},
   "source": [
    "### 4.3 Characterise Niches"
   ]
  },
  {
   "cell_type": "markdown",
   "id": "eaa8770f",
   "metadata": {},
   "source": [
    "#### 4.3.1 Niche Composition"
   ]
  },
  {
   "cell_type": "code",
   "execution_count": null,
   "id": "e05b2f4b",
   "metadata": {},
   "outputs": [],
   "source": [
    "# Niche composition (batches)\n",
    "save_path_batches = figure_folder_path / f\"res_{latent_leiden_resolution}_niche_composition_batches.svg\"\n",
    "df_counts = (model.adata.obs.groupby([latent_cluster_key, cat_covariates_keys[0]]).size().unstack())\n",
    "\n",
    "ax = df_counts.plot(kind=\"bar\", stacked=True, figsize=(10,10))\n",
    "legend = plt.legend(bbox_to_anchor=(1,1), loc=\"upper left\", prop={\"size\": 10})\n",
    "legend.set_title(\"Batch Annotations\", prop={\"size\": 10})\n",
    "plt.title(\"Batch Composition of Niches\")\n",
    "plt.xlabel(\"Niche\")\n",
    "plt.ylabel(\"Cell Counts\")\n",
    "plt.savefig(save_path_batches, bbox_extra_artists=(legend,), bbox_inches=\"tight\")\n",
    "plt.show()"
   ]
  },
  {
   "cell_type": "code",
   "execution_count": null,
   "id": "5509fe6a",
   "metadata": {},
   "outputs": [],
   "source": [
    "# Niche composition (cell-type)\n",
    "save_path_celltypes = figure_folder_path / f\"res_{latent_leiden_resolution}_niche_composition_cell_types.svg\"\n",
    "df_counts = (model.adata.obs.groupby([latent_cluster_key, cell_type_key]).size().unstack())\n",
    "\n",
    "ax = df_counts.plot(kind=\"bar\", stacked=True, figsize=(10,10))\n",
    "legend = plt.legend(bbox_to_anchor=(1,1), loc=\"upper left\", prop={\"size\": 10})\n",
    "legend.set_title(\"Cell Type Annotations\", prop={\"size\": 10})\n",
    "plt.title(\"Cell Type Composition of Niches\")\n",
    "plt.xlabel(\"Niche\")\n",
    "plt.ylabel(\"Cell Counts\")\n",
    "plt.savefig(save_path_celltypes, bbox_extra_artists=(legend,), bbox_inches=\"tight\")\n",
    "plt.show()"
   ]
  },
  {
   "cell_type": "markdown",
   "id": "5229ef2f",
   "metadata": {},
   "source": [
    "#### 4.3.2 Differential GPs\n",
    "We test which GPs are differentially expressed in a niche.\n",
    "\n",
    "To this end, we will perform \"one-vs-rest\" differential GP testing, i.e all niches (```selected_cats = None```) are tested against all other niches (```comparison_cats = \"rest\"```).\n",
    "\n",
    "However, differential GP testing can also be performed in the following ways:\n",
    "- Set ```selected_cats = [\"0\"]``` to perform differential GP testing for a specific niche only, in this case niche \"0\".\n",
    "- Set ```comparison_cats = [\"2\"]``` to perform differential GP testing against niche \"2\" as opposed to against all other niches.\n",
    "\n",
    "We choose an absolute log bayes factor threshold of 2.3 to determine strongly enriched GPs (see https://en.wikipedia.org/wiki/Bayes_factor)."
   ]
  },
  {
   "cell_type": "code",
   "execution_count": null,
   "id": "7998492d",
   "metadata": {},
   "outputs": [],
   "source": [
    "# Check number of active GPs\n",
    "active_gps = model.get_active_gps()\n",
    "print(f\"Total GPs: {len(model.adata.uns[gp_names_key])}; Active GPs: {len(active_gps)}.\")"
   ]
  },
  {
   "cell_type": "code",
   "execution_count": null,
   "id": "86048546",
   "metadata": {},
   "outputs": [],
   "source": [
    "# Display example active GPs\n",
    "gp_summary_df = model.get_gp_summary()\n",
    "display(gp_summary_df[gp_summary_df[\"gp_active\"] == True].head())"
   ]
  },
  {
   "cell_type": "code",
   "execution_count": null,
   "id": "d4289c83",
   "metadata": {},
   "outputs": [],
   "source": [
    "# Run differential gp testing and store the result\n",
    "selected_cats = None\n",
    "comparison_cats = \"rest\"\n",
    "\n",
    "enriched_gps = model.run_differential_gp_tests(\n",
    "    cat_key=latent_cluster_key,\n",
    "    selected_cats=selected_cats,\n",
    "    comparison_cats=comparison_cats,\n",
    "    log_bayes_factor_thresh=log_bayes_factor_thresh,\n",
    ")\n",
    "\n",
    "# Store results\n",
    "if differential_gp_test_results_key in model.adata.uns:\n",
    "    res_path = figure_folder_path / f\"log_bayes_factor_{log_bayes_factor_thresh}_niche_enriched_gps_summary.csv\"\n",
    "    gp_summary_cols = [\n",
    "        \"gp_name\",\"n_source_genes\",\"n_non_zero_source_genes\",\"n_target_genes\",\"n_non_zero_target_genes\",\n",
    "        \"gp_source_genes\",\"gp_target_genes\",\"gp_source_genes_importances\",\"gp_target_genes_importances\"\n",
    "    ]\n",
    "    enriched_gp_summary_df = gp_summary_df[gp_summary_df[\"gp_name\"].isin(enriched_gps)]\n",
    "    cat_dtype = pd.CategoricalDtype(categories=enriched_gps, ordered=True)\n",
    "    enriched_gp_summary_df = enriched_gp_summary_df.assign(gp_name=enriched_gp_summary_df[\"gp_name\"].astype(cat_dtype))\n",
    "    enriched_gp_summary_df = enriched_gp_summary_df.sort_values(by=\"gp_name\")[gp_summary_cols]\n",
    "    enriched_gp_summary_df.to_csv(res_path, index=False)\n",
    "    display(enriched_gp_summary_df)"
   ]
  },
  {
   "cell_type": "code",
   "execution_count": null,
   "id": "9ff63671",
   "metadata": {},
   "outputs": [],
   "source": [
    "# Heatmap of normalized GP activities across niches\n",
    "if not enriched_gps:\n",
    "    print(f\"No enriched GPs at log_bayes_factor_thresh={log_bayes_factor_thresh}. Skipping heatmap.\")\n",
    "\n",
    "else:\n",
    "    df = model.adata.obs[[latent_cluster_key] + enriched_gps].groupby(latent_cluster_key).mean()\n",
    "\n",
    "    scaler = MinMaxScaler()\n",
    "    normalized_df = pd.DataFrame(scaler.fit_transform(df), columns=df.columns, index=df.index)\n",
    "\n",
    "    plt.figure(figsize=(16,8))\n",
    "    ax = sns.heatmap(normalized_df, cmap=\"viridis\", annot=False, linewidths=0)\n",
    "    plt.xticks(rotation=45, fontsize=8, ha=\"right\")\n",
    "    plt.xlabel(\"Gene Programs\", fontsize=16)\n",
    "    plt.tight_layout()\n",
    "    plt.savefig(figure_folder_path / \"enriched_gps_heatmap.svg\", bbox_inches=\"tight\")\n",
    "    plt.show()"
   ]
  },
  {
   "cell_type": "code",
   "execution_count": null,
   "id": "671f90d6",
   "metadata": {},
   "outputs": [],
   "source": [
    "if enriched_gps:\n",
    "    plot_label = f\"log_bayes_factor_{log_bayes_factor_thresh}_cluster_{selected_cats[0] if selected_cats else 'None'}_vs_rest\"\n",
    "\n",
    "    generate_enriched_gp_info_plots(\n",
    "        plot_label=plot_label,\n",
    "        model=model,\n",
    "        sample_key=sample_key,\n",
    "        differential_gp_test_results_key=differential_gp_test_results_key,\n",
    "        cat_key=latent_cluster_key,\n",
    "        cat_palette=latent_cluster_colors,\n",
    "        n_top_enriched_gp_start_idx=20,\n",
    "        n_top_enriched_gp_end_idx=30,\n",
    "        feature_spaces=samples, # [\"latent\"]\n",
    "        n_top_genes_per_gp=3,\n",
    "        save_figs=True,\n",
    "        figure_folder_path=f\"{figure_folder_path}/\",\n",
    "        spot_size=spot_size)\n",
    "\n",
    "else:\n",
    "    print(\"No enriched GPs; skipping per-GP info plots.\")"
   ]
  },
  {
   "cell_type": "markdown",
   "id": "2c3292e6",
   "metadata": {},
   "source": [
    "### 4.3.3 Cell-cell Communication (optional)\n",
    "\n",
    "We use the inferred activity of an enriched combined interaction GP to analyze the involved intercellular interactions."
   ]
  },
  {
   "cell_type": "code",
   "execution_count": null,
   "id": "e80936f2",
   "metadata": {},
   "outputs": [],
   "source": [
    "if gp_name:\n",
    "    network_df = compute_communication_gp_network(\n",
    "        gp_list=[gp_name],\n",
    "        model=model,\n",
    "        group_key=latent_cluster_key,\n",
    "        n_neighbors=n_neighbors,\n",
    "    )\n",
    "\n",
    "    visualize_communication_gp_network(\n",
    "        adata=model.adata,\n",
    "        network_df=network_df,\n",
    "        figsize=(9,7),\n",
    "        cat_colors=create_new_color_dict(adata=model.adata, cat_key=latent_cluster_key),\n",
    "        edge_type_colors=[\"#1f77b4\"],\n",
    "        cat_key=latent_cluster_key,\n",
    "        save=True,\n",
    "        save_path=f\"{figure_folder_path}/gp_network_{gp_name}.svg\",\n",
    "    )\n",
    "\n",
    "else:\n",
    "    print(\"Skipping communication analysis (no gp_name provided).\")"
   ]
  }
 ],
 "metadata": {
  "kernelspec": {
   "display_name": "env",
   "language": "python",
   "name": "python3"
  },
  "language_info": {
   "codemirror_mode": {
    "name": "ipython",
    "version": 3
   },
   "file_extension": ".py",
   "mimetype": "text/x-python",
   "name": "python",
   "nbconvert_exporter": "python",
   "pygments_lexer": "ipython3",
   "version": "3.10.12"
  }
 },
 "nbformat": 4,
 "nbformat_minor": 5
}
